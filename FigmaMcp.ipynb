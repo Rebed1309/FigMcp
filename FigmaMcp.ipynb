{
  "nbformat": 4,
  "nbformat_minor": 0,
  "metadata": {
    "colab": {
      "provenance": [],
      "authorship_tag": "ABX9TyOESNJ6Qg3LO1PWMPwWzG4O",
      "include_colab_link": true
    },
    "kernelspec": {
      "name": "python3",
      "display_name": "Python 3"
    },
    "language_info": {
      "name": "python"
    }
  },
  "cells": [
    {
      "cell_type": "markdown",
      "metadata": {
        "id": "view-in-github",
        "colab_type": "text"
      },
      "source": [
        "<a href=\"https://colab.research.google.com/github/Rebed1309/FigMcp/blob/main/FigmaMcp.ipynb\" target=\"_parent\"><img src=\"https://colab.research.google.com/assets/colab-badge.svg\" alt=\"Open In Colab\"/></a>"
      ]
    },
    {
      "cell_type": "code",
      "execution_count": 2,
      "metadata": {
        "colab": {
          "base_uri": "https://localhost:8080/"
        },
        "id": "Z-N9-54ZWufu",
        "outputId": "150bb37c-a70f-4114-bf1c-15f9b6549c52"
      },
      "outputs": [
        {
          "output_type": "stream",
          "name": "stdout",
          "text": [
            "Requirement already satisfied: mcp in /usr/local/lib/python3.12/dist-packages (1.14.1)\n",
            "Requirement already satisfied: requests in /usr/local/lib/python3.12/dist-packages (2.32.4)\n",
            "Requirement already satisfied: openai in /usr/local/lib/python3.12/dist-packages (1.108.0)\n",
            "Collecting reportlab\n",
            "  Downloading reportlab-4.4.4-py3-none-any.whl.metadata (1.7 kB)\n",
            "Requirement already satisfied: anyio>=4.5 in /usr/local/lib/python3.12/dist-packages (from mcp) (4.10.0)\n",
            "Requirement already satisfied: httpx-sse>=0.4 in /usr/local/lib/python3.12/dist-packages (from mcp) (0.4.1)\n",
            "Requirement already satisfied: httpx>=0.27.1 in /usr/local/lib/python3.12/dist-packages (from mcp) (0.28.1)\n",
            "Requirement already satisfied: jsonschema>=4.20.0 in /usr/local/lib/python3.12/dist-packages (from mcp) (4.25.1)\n",
            "Requirement already satisfied: pydantic-settings>=2.5.2 in /usr/local/lib/python3.12/dist-packages (from mcp) (2.10.1)\n",
            "Requirement already satisfied: pydantic<3.0.0,>=2.11.0 in /usr/local/lib/python3.12/dist-packages (from mcp) (2.11.9)\n",
            "Requirement already satisfied: python-multipart>=0.0.9 in /usr/local/lib/python3.12/dist-packages (from mcp) (0.0.20)\n",
            "Requirement already satisfied: sse-starlette>=1.6.1 in /usr/local/lib/python3.12/dist-packages (from mcp) (3.0.2)\n",
            "Requirement already satisfied: starlette>=0.27 in /usr/local/lib/python3.12/dist-packages (from mcp) (0.48.0)\n",
            "Requirement already satisfied: uvicorn>=0.31.1 in /usr/local/lib/python3.12/dist-packages (from mcp) (0.35.0)\n",
            "Requirement already satisfied: charset_normalizer<4,>=2 in /usr/local/lib/python3.12/dist-packages (from requests) (3.4.3)\n",
            "Requirement already satisfied: idna<4,>=2.5 in /usr/local/lib/python3.12/dist-packages (from requests) (3.10)\n",
            "Requirement already satisfied: urllib3<3,>=1.21.1 in /usr/local/lib/python3.12/dist-packages (from requests) (2.5.0)\n",
            "Requirement already satisfied: certifi>=2017.4.17 in /usr/local/lib/python3.12/dist-packages (from requests) (2025.8.3)\n",
            "Requirement already satisfied: distro<2,>=1.7.0 in /usr/local/lib/python3.12/dist-packages (from openai) (1.9.0)\n",
            "Requirement already satisfied: jiter<1,>=0.4.0 in /usr/local/lib/python3.12/dist-packages (from openai) (0.11.0)\n",
            "Requirement already satisfied: sniffio in /usr/local/lib/python3.12/dist-packages (from openai) (1.3.1)\n",
            "Requirement already satisfied: tqdm>4 in /usr/local/lib/python3.12/dist-packages (from openai) (4.67.1)\n",
            "Requirement already satisfied: typing-extensions<5,>=4.11 in /usr/local/lib/python3.12/dist-packages (from openai) (4.15.0)\n",
            "Requirement already satisfied: pillow>=9.0.0 in /usr/local/lib/python3.12/dist-packages (from reportlab) (11.3.0)\n",
            "Requirement already satisfied: httpcore==1.* in /usr/local/lib/python3.12/dist-packages (from httpx>=0.27.1->mcp) (1.0.9)\n",
            "Requirement already satisfied: h11>=0.16 in /usr/local/lib/python3.12/dist-packages (from httpcore==1.*->httpx>=0.27.1->mcp) (0.16.0)\n",
            "Requirement already satisfied: attrs>=22.2.0 in /usr/local/lib/python3.12/dist-packages (from jsonschema>=4.20.0->mcp) (25.3.0)\n",
            "Requirement already satisfied: jsonschema-specifications>=2023.03.6 in /usr/local/lib/python3.12/dist-packages (from jsonschema>=4.20.0->mcp) (2025.9.1)\n",
            "Requirement already satisfied: referencing>=0.28.4 in /usr/local/lib/python3.12/dist-packages (from jsonschema>=4.20.0->mcp) (0.36.2)\n",
            "Requirement already satisfied: rpds-py>=0.7.1 in /usr/local/lib/python3.12/dist-packages (from jsonschema>=4.20.0->mcp) (0.27.1)\n",
            "Requirement already satisfied: annotated-types>=0.6.0 in /usr/local/lib/python3.12/dist-packages (from pydantic<3.0.0,>=2.11.0->mcp) (0.7.0)\n",
            "Requirement already satisfied: pydantic-core==2.33.2 in /usr/local/lib/python3.12/dist-packages (from pydantic<3.0.0,>=2.11.0->mcp) (2.33.2)\n",
            "Requirement already satisfied: typing-inspection>=0.4.0 in /usr/local/lib/python3.12/dist-packages (from pydantic<3.0.0,>=2.11.0->mcp) (0.4.1)\n",
            "Requirement already satisfied: python-dotenv>=0.21.0 in /usr/local/lib/python3.12/dist-packages (from pydantic-settings>=2.5.2->mcp) (1.1.1)\n",
            "Requirement already satisfied: click>=7.0 in /usr/local/lib/python3.12/dist-packages (from uvicorn>=0.31.1->mcp) (8.2.1)\n",
            "Downloading reportlab-4.4.4-py3-none-any.whl (2.0 MB)\n",
            "\u001b[2K   \u001b[90m━━━━━━━━━━━━━━━━━━━━━━━━━━━━━━━━━━━━━━━━\u001b[0m \u001b[32m2.0/2.0 MB\u001b[0m \u001b[31m29.5 MB/s\u001b[0m eta \u001b[36m0:00:00\u001b[0m\n",
            "\u001b[?25hInstalling collected packages: reportlab\n",
            "Successfully installed reportlab-4.4.4\n"
          ]
        }
      ],
      "source": [
        "# Depedencies\n",
        "!pip install mcp requests openai reportlab"
      ]
    },
    {
      "cell_type": "code",
      "source": [
        "#set the API Keys\n",
        "import os\n",
        "os.environ[\"FIGMA_API_KEY\"] = \"\n",
        "os.environ[\"OPENAI_API_KEY\"] = \""
      ],
      "metadata": {
        "id": "LH0jtxgKaTMJ"
      },
      "execution_count": 3,
      "outputs": []
    },
    {
      "cell_type": "code",
      "source": [
        "#fetch figma components\n",
        "import requests\n",
        "import os # Import os module\n",
        "\n",
        "def fetch_figma_components(file_id):\n",
        "   headers = {\"X-Figma-Token\": os.environ[\"FIGMA_API_KEY\"]}\n",
        "   # Correct URL for Figma API to get file content\n",
        "   url = f\"https://api.figma.com/v1/files/{file_id}\"\n",
        "   resp = requests.get(url, headers=headers)\n",
        "   resp.raise_for_status()\n",
        "   # Assuming components are within the document structure, adjust path as needed\n",
        "   return resp.json().get(\"document\", {}).get(\"children\", [])\n",
        "# Example usage (replace with your Figma file ID)\n",
        "components = fetch_figma_components(\"cAY0eMjKSabF8TKoEExA8F\")\n",
        "components[:2]  # show first 2 components"
      ],
      "metadata": {
        "colab": {
          "base_uri": "https://localhost:8080/"
        },
        "id": "-gFfemv9az5r",
        "outputId": "34360f35-0bdc-4f9e-9430-7389683b28a6"
      },
      "execution_count": 12,
      "outputs": [
        {
          "output_type": "execute_result",
          "data": {
            "text/plain": [
              "[{'id': '0:1',\n",
              "  'name': 'Page 1',\n",
              "  'type': 'CANVAS',\n",
              "  'scrollBehavior': 'SCROLLS',\n",
              "  'children': [{'id': '4:2',\n",
              "    'name': 'Frame 1',\n",
              "    'type': 'FRAME',\n",
              "    'scrollBehavior': 'SCROLLS',\n",
              "    'children': [{'id': '4:6',\n",
              "      'name': 'Group 1',\n",
              "      'type': 'COMPONENT',\n",
              "      'scrollBehavior': 'SCROLLS',\n",
              "      'children': [{'id': '4:3',\n",
              "        'name': 'Rectangle 1',\n",
              "        'type': 'RECTANGLE',\n",
              "        'scrollBehavior': 'SCROLLS',\n",
              "        'blendMode': 'PASS_THROUGH',\n",
              "        'fills': [{'blendMode': 'NORMAL',\n",
              "          'type': 'SOLID',\n",
              "          'color': {'r': 0.8509804010391235,\n",
              "           'g': 0.8509804010391235,\n",
              "           'b': 0.8509804010391235,\n",
              "           'a': 1.0}}],\n",
              "        'strokes': [],\n",
              "        'strokeWeight': 1.0,\n",
              "        'strokeAlign': 'INSIDE',\n",
              "        'absoluteBoundingBox': {'x': 132.0,\n",
              "         'y': 94.0,\n",
              "         'width': 197.0,\n",
              "         'height': 105.0},\n",
              "        'absoluteRenderBounds': {'x': 132.0,\n",
              "         'y': 94.0,\n",
              "         'width': 197.0,\n",
              "         'height': 105.0},\n",
              "        'constraints': {'vertical': 'SCALE', 'horizontal': 'SCALE'},\n",
              "        'effects': [],\n",
              "        'interactions': []}],\n",
              "      'blendMode': 'PASS_THROUGH',\n",
              "      'clipsContent': False,\n",
              "      'background': [],\n",
              "      'fills': [],\n",
              "      'strokes': [],\n",
              "      'strokeWeight': 1.0,\n",
              "      'strokeAlign': 'INSIDE',\n",
              "      'backgroundColor': {'r': 0.0, 'g': 0.0, 'b': 0.0, 'a': 0.0},\n",
              "      'absoluteBoundingBox': {'x': 132.0,\n",
              "       'y': 94.0,\n",
              "       'width': 197.0,\n",
              "       'height': 105.0},\n",
              "      'absoluteRenderBounds': {'x': 132.0,\n",
              "       'y': 94.0,\n",
              "       'width': 197.0,\n",
              "       'height': 105.0},\n",
              "      'constraints': {'vertical': 'TOP', 'horizontal': 'LEFT'},\n",
              "      'effects': [],\n",
              "      'interactions': []},\n",
              "     {'id': '4:4',\n",
              "      'name': 'Click Me',\n",
              "      'type': 'TEXT',\n",
              "      'scrollBehavior': 'SCROLLS',\n",
              "      'blendMode': 'PASS_THROUGH',\n",
              "      'fills': [{'blendMode': 'NORMAL',\n",
              "        'type': 'SOLID',\n",
              "        'color': {'r': 0.0, 'g': 0.0, 'b': 0.0, 'a': 1.0}}],\n",
              "      'strokes': [],\n",
              "      'strokeWeight': 1.0,\n",
              "      'strokeAlign': 'OUTSIDE',\n",
              "      'absoluteBoundingBox': {'x': 180.0,\n",
              "       'y': 127.0,\n",
              "       'width': 115.0,\n",
              "       'height': 47.0},\n",
              "      'absoluteRenderBounds': {'x': 200.96591186523438,\n",
              "       'y': 145.0,\n",
              "       'width': 47.366119384765625,\n",
              "       'height': 9.136367797851562},\n",
              "      'constraints': {'vertical': 'TOP', 'horizontal': 'LEFT'},\n",
              "      'characters': '\\n      Click Me',\n",
              "      'characterStyleOverrides': [],\n",
              "      'styleOverrideTable': {},\n",
              "      'lineTypes': ['NONE', 'NONE'],\n",
              "      'lineIndentations': [0, 0],\n",
              "      'style': {'fontFamily': 'Inter',\n",
              "       'fontPostScriptName': None,\n",
              "       'fontStyle': 'Regular',\n",
              "       'fontWeight': 400,\n",
              "       'fontSize': 12.0,\n",
              "       'textAlignHorizontal': 'LEFT',\n",
              "       'textAlignVertical': 'TOP',\n",
              "       'letterSpacing': 0.0,\n",
              "       'lineHeightPx': 14.522727012634277,\n",
              "       'lineHeightPercent': 100.0,\n",
              "       'lineHeightUnit': 'INTRINSIC_%'},\n",
              "      'layoutVersion': 4,\n",
              "      'effects': [],\n",
              "      'interactions': []}],\n",
              "    'blendMode': 'PASS_THROUGH',\n",
              "    'clipsContent': True,\n",
              "    'background': [{'blendMode': 'NORMAL',\n",
              "      'type': 'SOLID',\n",
              "      'color': {'r': 1.0, 'g': 1.0, 'b': 1.0, 'a': 1.0}}],\n",
              "    'fills': [{'blendMode': 'NORMAL',\n",
              "      'type': 'SOLID',\n",
              "      'color': {'r': 1.0, 'g': 1.0, 'b': 1.0, 'a': 1.0}}],\n",
              "    'strokes': [],\n",
              "    'strokeWeight': 1.0,\n",
              "    'strokeAlign': 'INSIDE',\n",
              "    'backgroundColor': {'r': 1.0, 'g': 1.0, 'b': 1.0, 'a': 1.0},\n",
              "    'absoluteBoundingBox': {'x': 0.0,\n",
              "     'y': 0.0,\n",
              "     'width': 421.0,\n",
              "     'height': 310.0},\n",
              "    'absoluteRenderBounds': {'x': 0.0,\n",
              "     'y': 0.0,\n",
              "     'width': 421.0,\n",
              "     'height': 310.0},\n",
              "    'constraints': {'vertical': 'TOP', 'horizontal': 'LEFT'},\n",
              "    'effects': [],\n",
              "    'interactions': []}],\n",
              "  'backgroundColor': {'r': 0.9607843160629272,\n",
              "   'g': 0.9607843160629272,\n",
              "   'b': 0.9607843160629272,\n",
              "   'a': 1.0},\n",
              "  'prototypeStartNodeID': None,\n",
              "  'flowStartingPoints': [],\n",
              "  'prototypeDevice': {'type': 'NONE', 'rotation': 'NONE'}}]"
            ]
          },
          "metadata": {},
          "execution_count": 12
        }
      ]
    },
    {
      "cell_type": "code",
      "source": [
        "#convert json to react\n",
        "from openai import OpenAI\n",
        "client = OpenAI(api_key=os.environ[\"OPENAI_API_KEY\"])\n",
        "def generate_react_component(component):\n",
        "   prompt = f\"\"\"\n",
        "   Convert this Figma component JSON into a React functional component.\n",
        "   Use inline styles, no external libraries.\n",
        "   Component JSON: {component}\n",
        "   \"\"\"\n",
        "   response = client.chat.completions.create(\n",
        "       model=\"gpt-4o-mini\",\n",
        "       messages=[{\"role\": \"user\", \"content\": prompt}]\n",
        "   )\n",
        "   return response.choices[0].message.content\n",
        "# Example usage\n",
        "if components:\n",
        "   code = generate_react_component(components[0])\n",
        "   print(code)"
      ],
      "metadata": {
        "colab": {
          "base_uri": "https://localhost:8080/"
        },
        "id": "_Nrx8GDma-mo",
        "outputId": "27bba410-c901-49bc-a625-d25f6687616c"
      },
      "execution_count": 13,
      "outputs": [
        {
          "output_type": "stream",
          "name": "stdout",
          "text": [
            "Here’s how you can convert the provided Figma component JSON into a React functional component using inline styles. The component will represent a simple layout with a rectangle and a text button.\n",
            "\n",
            "```jsx\n",
            "import React from 'react';\n",
            "\n",
            "const Page1 = () => {\n",
            "  return (\n",
            "    <div style={{\n",
            "      width: '421px',\n",
            "      height: '310px',\n",
            "      position: 'relative',\n",
            "      backgroundColor: 'rgba(0.960784, 0.960784, 0.960784, 1)',\n",
            "      overflow: 'hidden',\n",
            "      padding: '0',\n",
            "      margin: '0'\n",
            "    }}>\n",
            "      <div style={{\n",
            "        position: 'absolute',\n",
            "        top: '94px',\n",
            "        left: '132px',\n",
            "        width: '197px',\n",
            "        height: '105px',\n",
            "        backgroundColor: 'rgba(1, 1, 1, 1)',\n",
            "        boxShadow: 'inset 0px 0px 0px 1px rgba(0, 0, 0, 0.0)',\n",
            "      }}>\n",
            "        <div style={{\n",
            "          position: 'absolute',\n",
            "          top: '0',\n",
            "          left: '0',\n",
            "          width: '100%',\n",
            "          height: '100%',\n",
            "          backgroundColor: 'rgba(0.850980, 0.850980, 0.850980, 1)',\n",
            "          boxShadow: 'none'\n",
            "        }}>\n",
            "        </div>\n",
            "      </div>\n",
            "      <div style={{\n",
            "        position: 'absolute',\n",
            "        top: '127px',\n",
            "        left: '180px',\n",
            "        color: 'rgba(0, 0, 0, 1)',\n",
            "        fontFamily: 'Inter, sans-serif',\n",
            "        fontSize: '12px',\n",
            "        lineHeight: '14.52px',\n",
            "        fontWeight: '400',\n",
            "        textAlign: 'left',\n",
            "        cursor: 'pointer'\n",
            "      }}>\n",
            "        Click Me\n",
            "      </div>\n",
            "    </div>\n",
            "  );\n",
            "};\n",
            "\n",
            "export default Page1;\n",
            "```\n",
            "\n",
            "### Explanation:\n",
            "1. **Container Div (`<div>`):** This simulates the main canvas of the Figma component. The styles are set according to its dimensions and background color.\n",
            "  \n",
            "2. **Frame Div:** This nested div represents a frame with specified dimensions and background color representing the outer frame.\n",
            "\n",
            "3. **Rectangle Div:** Inside the frame, another div simulates the rectangle. It uses a light grey background based on the provided color from the JSON.\n",
            "\n",
            "4. **Text Element:** The `Click Me` text is rendered in a styled div with inline properties that mimic the Figma text settings, including font size, weight, and color.\n",
            "\n",
            "Make sure to replace or install any necessary fonts (like 'Inter') in your project if not already available. This component can now be used in your React application, and you can see it rendered according to the Figma design specifications.\n"
          ]
        }
      ]
    },
    {
      "cell_type": "code",
      "source": [
        "#save components as files\n",
        "def save_component(name, code):\n",
        "   filename = f\"/content/components/{name.replace('/', '_')}.jsx\"\n",
        "   with open(filename, \"w\") as f:\n",
        "       f.write(code)\n",
        "   print(f\"✅ Saved {filename}\")\n",
        "# Save the first one\n",
        "if components:\n",
        "   code = generate_react_component(components[0])\n",
        "   save_component(components[0][\"name\"], code)"
      ],
      "metadata": {
        "colab": {
          "base_uri": "https://localhost:8080/"
        },
        "id": "qGcfpRUlbJVG",
        "outputId": "9aceb9ec-2132-4598-a949-4f27313fa802"
      },
      "execution_count": 15,
      "outputs": [
        {
          "output_type": "stream",
          "name": "stdout",
          "text": [
            "✅ Saved /content/components/Page 1.jsx\n"
          ]
        }
      ]
    },
    {
      "cell_type": "code",
      "source": [
        "!npm run dev"
      ],
      "metadata": {
        "colab": {
          "base_uri": "https://localhost:8080/"
        },
        "id": "JBW-6OWgp7E6",
        "outputId": "46f6168c-014d-4029-f590-7d69108b254c"
      },
      "execution_count": 21,
      "outputs": [
        {
          "output_type": "stream",
          "name": "stdout",
          "text": [
            "\n",
            "> my-nextjs-app@0.1.0 dev\n",
            "> next dev\n",
            "\n",
            "\u001b[1G\u001b[0Ksh: 1: next: not found\n",
            "\u001b[1G\u001b[0K⠙\u001b[1G\u001b[0K"
          ]
        }
      ]
    },
    {
      "cell_type": "code",
      "metadata": {
        "id": "edfb3b90"
      },
      "source": [],
      "execution_count": null,
      "outputs": []
    }
  ]
}