{
  "nbformat": 4,
  "nbformat_minor": 0,
  "metadata": {
    "colab": {
      "provenance": [],
      "authorship_tag": "ABX9TyP3xqu67NIryHz4+cYyCTwQ",
      "include_colab_link": true
    },
    "kernelspec": {
      "name": "python3",
      "display_name": "Python 3"
    },
    "language_info": {
      "name": "python"
    }
  },
  "cells": [
    {
      "cell_type": "markdown",
      "metadata": {
        "id": "view-in-github",
        "colab_type": "text"
      },
      "source": [
        "<a href=\"https://colab.research.google.com/github/Rebed1309/FigMcp/blob/main/Day2.ipynb\" target=\"_parent\"><img src=\"https://colab.research.google.com/assets/colab-badge.svg\" alt=\"Open In Colab\"/></a>"
      ]
    },
    {
      "cell_type": "code",
      "execution_count": null,
      "metadata": {
        "id": "fH1GZjH55VeK"
      },
      "outputs": [],
      "source": []
    },
    {
      "cell_type": "code",
      "metadata": {
        "colab": {
          "base_uri": "https://localhost:8080/"
        },
        "id": "c8133fd9",
        "outputId": "c68cfe36-0665-4a7a-9da2-c159de92bf7b"
      },
      "source": [
        "%pip install requests"
      ],
      "execution_count": 1,
      "outputs": [
        {
          "output_type": "stream",
          "name": "stdout",
          "text": [
            "Requirement already satisfied: requests in /usr/local/lib/python3.12/dist-packages (2.32.4)\n",
            "Requirement already satisfied: charset_normalizer<4,>=2 in /usr/local/lib/python3.12/dist-packages (from requests) (3.4.3)\n",
            "Requirement already satisfied: idna<4,>=2.5 in /usr/local/lib/python3.12/dist-packages (from requests) (3.10)\n",
            "Requirement already satisfied: urllib3<3,>=1.21.1 in /usr/local/lib/python3.12/dist-packages (from requests) (2.5.0)\n",
            "Requirement already satisfied: certifi>=2017.4.17 in /usr/local/lib/python3.12/dist-packages (from requests) (2025.8.3)\n"
          ]
        }
      ]
    },
    {
      "cell_type": "markdown",
      "metadata": {
        "id": "2867e885"
      },
      "source": [
        "# Task\n",
        "Create a plan to build a Website Builder using Figma, MCP (Model-Component-Page), and React (Next.js)."
      ]
    },
    {
      "cell_type": "code",
      "metadata": {
        "colab": {
          "base_uri": "https://localhost:8080/"
        },
        "id": "1e4f68d9",
        "outputId": "292b0b5f-1fc2-4d56-a964-e6a8676b31c2"
      },
      "source": [
        "import requests\n",
        "\n",
        "# Replace with your Figma personal access token\n",
        "FIGMA_ACCESS_TOKEN = \"\"\n",
        "\n",
        "# The file ID from your Figma URL\n",
        "FILE_ID = \"ahJ95aCFpzPDIGbFiwHeOs\"\n",
        "\n",
        "# The node ID from your Figma URL (for the specific button) - Node IDs work differently in FigJam\n",
        "# You might need to explore the FigJam file structure after fetching it to find the button.\n",
        "NODE_ID = \"0:1\" # Node IDs in FigJam can be different, this is just an example\n",
        "\n",
        "# Figma API endpoint to get a FigJam file\n",
        "url = f\"https://api.figma.com/v1/figjam/files/{FILE_ID}\"\n",
        "\n",
        "\n",
        "headers = {\n",
        "    \"X-Figma-Token\": FIGMA_ACCESS_TOKEN\n",
        "}\n",
        "\n",
        "response = requests.get(url, headers=headers)\n",
        "\n",
        "if response.status_code == 200:\n",
        "    data = response.json()\n",
        "    # You can explore the 'data' dictionary to see the details of the FigJam file\n",
        "    print(\"Successfully fetched FigJam file data:\")\n",
        "    # print(data) # Uncomment this line to see the full JSON response\n",
        "\n",
        "    # Finding a specific node in a FigJam file might require traversing the 'document' structure\n",
        "    # based on the type or name of the node you are looking for.\n",
        "    # Example (this will vary depending on the FigJam file structure):\n",
        "    if 'document' in data and 'children' in data['document']:\n",
        "        for child in data['document']['children']:\n",
        "            # This is a basic example, you'll need to inspect the 'data' to find your button's characteristics\n",
        "            if 'name' in child and 'Click Me Button' in child['name']:\n",
        "                 print(f\"Found a node potentially related to the button: {child['name']} (ID: {child['id']})\")\n",
        "\n",
        "elif response.status_code == 403:\n",
        "    print(\"Error: Forbidden. Check your Figma access token and make sure it has the necessary permissions.\")\n",
        "    print(f\"Response: {response.text}\")\n",
        "else:\n",
        "    print(f\"Error: Could not fetch Figma data. Status code: {response.status_code}\")\n",
        "    print(f\"Response: {response.text}\")"
      ],
      "execution_count": 7,
      "outputs": [
        {
          "output_type": "stream",
          "name": "stdout",
          "text": [
            "Error: Could not fetch Figma data. Status code: 404\n",
            "Response: {\"status\":404,\"err\":\"Not found\"}\n"
          ]
        }
      ]
    },
    {
      "cell_type": "markdown",
      "metadata": {
        "id": "0b1d7284"
      },
      "source": [
        "## Understand the core concepts\n",
        "\n",
        "### Subtask:\n",
        "Learn how Figma works as a design tool, focusing on its API and how to extract design information programmatically. Understand the MCP (Model-Component-Page) architectural pattern and research existing implementations or define your own. Ensure you have a solid understanding of React for building user interfaces and Next.js for server-side rendering and routing.\n"
      ]
    },
    {
      "cell_type": "markdown",
      "metadata": {
        "id": "ed0ebdf5"
      },
      "source": [
        "## Set up the development environment\n",
        "\n",
        "### Subtask:\n",
        "Install Node.js, npm/yarn, and the Next.js CLI. Set up a version control system (e.g., Git) and create a repository. Configure your development environment with necessary tools and extensions (e.g., ESLint, Prettier).\n"
      ]
    },
    {
      "cell_type": "markdown",
      "metadata": {
        "id": "7190b5b8"
      },
      "source": [
        "## Figma integration\n",
        "\n",
        "### Subtask:\n",
        "Explore the Figma API documentation to understand how to access design files, layers, components, and other elements. Implement the logic to fetch design data from Figma using the API. Convert Figma design elements into a structured data representation suitable for your MCP model.\n"
      ]
    },
    {
      "cell_type": "markdown",
      "metadata": {
        "id": "cae162c0"
      },
      "source": [
        "**Reasoning**:\n",
        "Since the task is to explore documentation and outline a process, which doesn't involve writing executable code in this environment, I will outline the steps and the expected outcome as requested in the instructions.\n",
        "\n"
      ]
    }
  ]
}